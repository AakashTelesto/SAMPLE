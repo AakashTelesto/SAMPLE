{
 "cells": [
  {
   "cell_type": "markdown",
   "metadata": {},
   "source": [
    "## This is without NI DATA "
   ]
  },
  {
   "cell_type": "code",
   "execution_count": 1,
   "metadata": {},
   "outputs": [],
   "source": [
    "import numpy as np \n",
    "import pandas as pd"
   ]
  },
  {
   "cell_type": "code",
   "execution_count": 2,
   "metadata": {},
   "outputs": [],
   "source": [
    "import matplotlib as mpl\n",
    "import matplotlib.pyplot as plt\n",
    "import matplotlib.colors as colors\n",
    "from mpl_toolkits.axes_grid1 import make_axes_locatable\n",
    "\n",
    "from ipywidgets import *\n",
    "from ipywidgets import VBox, HBox\n",
    "from IPython.display import display, Markdown\n",
    "# from IPython.html import widgets\n",
    "import ipywidgets\n",
    "from ipywidgets import FileUpload\n",
    "from ipywidgets import interact\n"
   ]
  },
  {
   "cell_type": "code",
   "execution_count": 3,
   "metadata": {},
   "outputs": [],
   "source": [
    "all_df = pd.read_csv(r'C:\\Users\\DELL\\OneDrive - TELESTO ENERGY PTE. LTD\\Desktop\\IPyWidgets\\year_wise_sat_xgb_no_ni.csv')\n",
    "filtered_tvdss_df =all_df[all_df['TVDSS']<=2579]\n",
    "\n",
    "unique_wells = filtered_tvdss_df['WELL'].unique()\n",
    "unique_years = filtered_tvdss_df['YEAR'].unique()\n",
    "\n",
    "well_dropdown = widgets.Dropdown(options=unique_wells, description='Select Well:')\n",
    "year_slider = widgets.IntSlider(min=min(unique_years), max=max(unique_years), step=1, description='Select Year:')\n",
    "# all_df"
   ]
  },
  {
   "cell_type": "code",
   "execution_count": 4,
   "metadata": {},
   "outputs": [],
   "source": [
    "all_df_rst = pd.read_csv(r'C:\\Users\\DELL\\OneDrive - TELESTO ENERGY PTE. LTD\\Desktop\\IPyWidgets\\rst_data.csv')\n",
    "filtered_tvdss_df_rst =all_df_rst[all_df_rst['TVDSS']<=2579]"
   ]
  },
  {
   "cell_type": "code",
   "execution_count": 5,
   "metadata": {},
   "outputs": [],
   "source": [
    "# def plot_benchmark(well):\n",
    "#     benchmark_df = filtered_tvdss_df[(filtered_tvdss_df['WELL'] == well) & (filtered_tvdss_df['YEAR'] == filtered_tvdss_df['YEAR'].min())]\n",
    "#     plt.plot(benchmark_df['SUWI_P'], benchmark_df['TVDSS'], label=f'Year {filtered_tvdss_df[\"YEAR\"].min()} (Initial)', c='red', linestyle='--')\n",
    "\n",
    "# def plot_data(well, year):\n",
    "#     plt.figure(figsize=(3, 7))\n",
    "#     plt.clf()  # Clear the previous plot\n",
    "#     plot_benchmark(well)  # Plot the benchmark line\n",
    "#     filtered_df = filtered_tvdss_df[(filtered_tvdss_df['WELL'] == well) & (filtered_tvdss_df['YEAR'] == year)]\n",
    "#     plt.plot(filtered_df['SUWI_P'], filtered_df['TVDSS'], label=f'{year}')\n",
    "#     plt.title(f'{well} - {year}')\n",
    "#     plt.xlabel('SUWI_P')\n",
    "#     plt.ylabel('TVDSS')\n",
    "#     plt.xlim(0,1)\n",
    "#     plt.gca().invert_xaxis()\n",
    "#     plt.gca().invert_yaxis()\n",
    "#     plt.grid(True)\n",
    "#     plt.legend()\n",
    "#     plt.show()\n",
    "\n",
    "# # Create the interactive widget\n",
    "# interact(plot_data, well=well_dropdown, year=year_slider)"
   ]
  },
  {
   "cell_type": "code",
   "execution_count": null,
   "metadata": {},
   "outputs": [],
   "source": []
  },
  {
   "cell_type": "markdown",
   "metadata": {},
   "source": [
    "## OIL PROVIDED_RST DATA VS INITIAL PLOT"
   ]
  },
  {
   "cell_type": "code",
   "execution_count": 6,
   "metadata": {},
   "outputs": [],
   "source": [
    "all_df_rst = pd.read_csv(r'C:\\Users\\DELL\\OneDrive - TELESTO ENERGY PTE. LTD\\Desktop\\IPyWidgets\\rst_data.csv')"
   ]
  },
  {
   "cell_type": "code",
   "execution_count": 7,
   "metadata": {},
   "outputs": [],
   "source": [
    "filtered_tvdss_df_rst =all_df_rst[all_df_rst['TVDSS']<=2579]\n",
    "\n",
    "unique_wells = filtered_tvdss_df_rst['WELL'].unique()\n",
    "unique_years = filtered_tvdss_df_rst['YEAR'].unique()\n",
    "\n",
    "year_slider_rst = widgets.IntSlider(min=2015, max=2016, step=1, description='Select Year:')\n",
    "well_dropdown_rst = widgets.Dropdown(options=filtered_tvdss_df_rst['WELL'].unique(), description='Select Well:')"
   ]
  },
  {
   "cell_type": "code",
   "execution_count": 8,
   "metadata": {},
   "outputs": [],
   "source": [
    "# def plot_benchmark(well):\n",
    "#     benchmark_df = filtered_tvdss_df[(filtered_tvdss_df['WELL'] == well) & (filtered_tvdss_df['YEAR'] == filtered_tvdss_df['YEAR'].min())]\n",
    "#     plt.plot(benchmark_df['SUWI_P'], benchmark_df['TVDSS'], label=f'Year {filtered_tvdss_df[\"YEAR\"].min()} (Initial)', c='red', linestyle='--')\n",
    "\n",
    "# def plot_data_rst(well, year):\n",
    "#     plt.figure(figsize=(3, 7))\n",
    "#     plt.clf()  # Clear the previous plot\n",
    "#     plot_benchmark(well)  # Plot the benchmark line\n",
    "#     filtered_df_rst = filtered_tvdss_df_rst[(filtered_tvdss_df_rst['WELL'] == well) & (filtered_tvdss_df_rst['YEAR'] == year)]\n",
    "#     plt.plot(filtered_df_rst['SUWI_NEW_1'], filtered_df_rst['TVDSS'], label=f'{year}')\n",
    "#     plt.title(f'{well} - {year}')\n",
    "#     plt.xlabel('SUWI_P')\n",
    "#     plt.ylabel('TVDSS')\n",
    "#     plt.xlim(0,1)\n",
    "#     plt.gca().invert_xaxis()\n",
    "#     plt.gca().invert_yaxis()\n",
    "#     plt.grid(True)\n",
    "#     plt.legend()\n",
    "#     plt.show()\n",
    "\n",
    "# # Create the interactive widget\n",
    "# interact(plot_data_rst, well=well_dropdown_rst, year=year_slider_rst)"
   ]
  },
  {
   "cell_type": "markdown",
   "metadata": {},
   "source": [
    "## PREDICTED_RST DATA VS INITIAL PLOTS"
   ]
  },
  {
   "cell_type": "code",
   "execution_count": 9,
   "metadata": {},
   "outputs": [],
   "source": [
    "all_df_pred = pd.read_csv(r'C:\\Users\\DELL\\OneDrive - TELESTO ENERGY PTE. LTD\\Desktop\\IPyWidgets\\year_wise_sat_xgb_no_ni.csv')\n",
    "# all_df\n"
   ]
  },
  {
   "cell_type": "code",
   "execution_count": 10,
   "metadata": {},
   "outputs": [],
   "source": [
    "df_HJN043 = all_df_pred.loc[(all_df_pred[\"WELL\"]=='HJN043')&(all_df_pred[\"YEAR\"]==2015)]\n",
    "df_MKM007 = all_df_pred.loc[(all_df_pred[\"WELL\"]=='MKM007')&(all_df_pred[\"YEAR\"]==2015)]\n",
    "df_MKM022 = all_df_pred.loc[(all_df_pred[\"WELL\"]=='MKM022')&(all_df_pred[\"YEAR\"]==2015)]\n",
    "df_MKM042 = all_df_pred.loc[(all_df_pred[\"WELL\"]=='MKM042')&(all_df_pred[\"YEAR\"]==2016)]"
   ]
  },
  {
   "cell_type": "code",
   "execution_count": 11,
   "metadata": {},
   "outputs": [
    {
     "name": "stderr",
     "output_type": "stream",
     "text": [
      "C:\\Users\\DELL\\AppData\\Local\\Temp\\ipykernel_6108\\72408721.py:2: FutureWarning: The frame.append method is deprecated and will be removed from pandas in a future version. Use pandas.concat instead.\n",
      "  df_predicted = df_predicted.append([df_HJN043,df_MKM007,df_MKM022,df_MKM042] , ignore_index = True)\n"
     ]
    }
   ],
   "source": [
    "df_predicted = pd.DataFrame()\n",
    "df_predicted = df_predicted.append([df_HJN043,df_MKM007,df_MKM022,df_MKM042] , ignore_index = True)\n"
   ]
  },
  {
   "cell_type": "code",
   "execution_count": 12,
   "metadata": {},
   "outputs": [],
   "source": [
    "df_predicted =df_predicted[df_predicted['TVDSS']<=2579]"
   ]
  },
  {
   "cell_type": "code",
   "execution_count": 13,
   "metadata": {},
   "outputs": [],
   "source": [
    "year_slider_pred = widgets.IntSlider(min=2015, max=2016, step=1, description='Select Year:')\n",
    "well_dropdown_pred = widgets.Dropdown(options=df_predicted['WELL'].unique(), description='Select Well:')"
   ]
  },
  {
   "cell_type": "code",
   "execution_count": 14,
   "metadata": {},
   "outputs": [],
   "source": [
    "# def plot_benchmark(well):\n",
    "#     benchmark_df = filtered_tvdss_df[(filtered_tvdss_df['WELL'] == well) & (filtered_tvdss_df['YEAR'] == filtered_tvdss_df['YEAR'].min())]\n",
    "#     plt.plot(benchmark_df['SUWI_P'], benchmark_df['TVDSS'], label=f'Year {filtered_tvdss_df[\"YEAR\"].min()} (Initial)', c='red', linestyle='--')\n",
    "\n",
    "# def plot_data_pred(well, year):\n",
    "#     plt.figure(figsize=(3, 7))\n",
    "#     plt.clf()  # Clear the previous plot\n",
    "#     plot_benchmark(well)  # Plot the benchmark line\n",
    "# #     plot_data_rst(well, year)\n",
    "#     filtered_df_pred = df_predicted[(df_predicted['WELL'] == well) & (df_predicted['YEAR'] == year)]\n",
    "#     plt.plot(filtered_df_pred['SUWI_P'], filtered_df_pred['TVDSS'], label=f'{year}')\n",
    "#     plt.title(f'{well} - {year}')\n",
    "#     plt.xlabel('SUWI_P')\n",
    "#     plt.ylabel('TVDSS')\n",
    "#     plt.xlim(0,1)\n",
    "#     plt.gca().invert_xaxis()\n",
    "#     plt.gca().invert_yaxis()\n",
    "#     plt.grid(True)\n",
    "#     plt.legend()\n",
    "#     plt.show()\n",
    "\n",
    "# # Create the interactive widget\n",
    "# interact(plot_data_pred, well=well_dropdown_pred, year=year_slider_pred)"
   ]
  },
  {
   "cell_type": "code",
   "execution_count": 15,
   "metadata": {},
   "outputs": [],
   "source": [
    "import pandas as pd\n",
    "import matplotlib.pyplot as plt\n",
    "from ipywidgets import interact, widgets\n",
    "\n",
    "# Read the original data\n",
    "all_df = pd.read_csv(r'C:\\Users\\DELL\\OneDrive - TELESTO ENERGY PTE. LTD\\Desktop\\IPyWidgets\\year_wise_sat_xgb_no_ni.csv')\n",
    "filtered_tvdss_df = all_df[all_df['TVDSS'] <= 2579]\n",
    "\n",
    "# Read the new data\n",
    "all_df_rst = pd.read_csv(r'C:\\Users\\DELL\\OneDrive - TELESTO ENERGY PTE. LTD\\Desktop\\IPyWidgets\\rst_data.csv')\n",
    "filtered_tvdss_df_rst = all_df_rst[all_df_rst['TVDSS'] <= 2579]\n",
    "\n",
    "# Get unique wells and years from both data sources\n",
    "unique_wells = filtered_tvdss_df['WELL'].unique()\n",
    "unique_years = filtered_tvdss_df['YEAR'].unique()\n",
    "unique_years_rst = filtered_tvdss_df_rst['YEAR'].unique()\n",
    "\n",
    "well_dropdown = widgets.Dropdown(options=unique_wells, description='Select Well:')\n",
    "year_slider = widgets.IntSlider(min=min(unique_years), max=max(unique_years), step=1, description='Select Year:')\n",
    "data_source_dropdown = widgets.Dropdown(options=['Original', 'New Data'], description='Data Source:')\n",
    "\n",
    "# def plot_data(well, year, data_source):\n",
    "#     plt.figure(figsize=(3, 7))\n",
    "#     plt.clf()  # Clear the previous plot\n",
    "    \n",
    "#     if data_source == 'Original':\n",
    "#         filtered_df = filtered_tvdss_df[(filtered_tvdss_df['WELL'] == well) & (filtered_tvdss_df['YEAR'] == year)]\n",
    "#         plt.plot(filtered_df['SUWI_P'], filtered_df['TVDSS'], label=f'{year}')\n",
    "#     elif data_source == 'New Data':\n",
    "#         filtered_df_rst = filtered_tvdss_df_rst[(filtered_tvdss_df_rst['WELL'] == well) & (filtered_tvdss_df_rst['YEAR'] == year)]\n",
    "#         plt.plot(filtered_df_rst['SUWI_NEW_1'], filtered_df_rst['TVDSS'], label=f'{year}', c='pink')\n",
    "    \n",
    "#     plt.title(f'{well} - {year}')\n",
    "#     plt.xlabel('SUWI_P')\n",
    "#     plt.ylabel('TVDSS')\n",
    "#     plt.xlim(0, 1)\n",
    "#     plt.gca().invert_xaxis()\n",
    "#     plt.gca().invert_yaxis()\n",
    "#     plt.grid(True)\n",
    "#     plt.legend()\n",
    "#     plt.show()\n",
    "\n",
    "# # Create the interactive widget\n",
    "# interact(plot_data, well=well_dropdown, year=year_slider, data_source=data_source_dropdown)\n"
   ]
  },
  {
   "cell_type": "code",
   "execution_count": 16,
   "metadata": {},
   "outputs": [],
   "source": [
    "import pandas as pd\n",
    "import matplotlib.pyplot as plt\n",
    "from ipywidgets import interact, widgets\n",
    "\n",
    "# Read the original data\n",
    "all_df = pd.read_csv(r'C:\\Users\\DELL\\OneDrive - TELESTO ENERGY PTE. LTD\\Desktop\\IPyWidgets\\year_wise_sat_xgb_no_ni.csv')\n",
    "filtered_tvdss_df = all_df[all_df['TVDSS'] <= 2579]\n",
    "\n",
    "# Read the new data\n",
    "all_df_rst = pd.read_csv(r'C:\\Users\\DELL\\OneDrive - TELESTO ENERGY PTE. LTD\\Desktop\\IPyWidgets\\rst_data.csv')\n",
    "filtered_tvdss_df_rst = all_df_rst[all_df_rst['TVDSS'] <= 2579]\n",
    "\n",
    "# Get unique wells and years from the original data\n",
    "unique_wells = filtered_tvdss_df['WELL'].unique()\n",
    "unique_years = filtered_tvdss_df['YEAR'].unique()\n",
    "\n",
    "# well_dropdown = widgets.Dropdown(options=unique_wells, description='Select Well:')\n",
    "# year_slider = widgets.IntSlider(min=min(unique_years), max=max(unique_years), step=1, description='Select Year:')\n",
    "\n",
    "# Create dropdown widgets with reduced width\n",
    "well_dropdown_left = widgets.Dropdown(options=unique_wells, description='Select Well (Left):', layout=Layout(width='auto'))\n",
    "year_slider_left = widgets.IntSlider(min=min(unique_years), max=max(unique_years), step=1, description='Select Year (Left):', layout=Layout(width='auto'))\n",
    "well_dropdown_right = widgets.Dropdown(options=unique_wells, description='Select Well (Right):', layout=Layout(width='auto'))\n",
    "year_slider_right = widgets.IntSlider(min=min(unique_years), max=max(unique_years), step=1, description='Select Year (Right):', layout=Layout(width='auto'))\n",
    "\n",
    "def plot_benchmark(well,year):\n",
    "    benchmark_df = filtered_tvdss_df[(filtered_tvdss_df['WELL'] == well) & (filtered_tvdss_df['YEAR'] == filtered_tvdss_df['YEAR'].min())]\n",
    "    plt.plot(benchmark_df['SUWI_P'], benchmark_df['TVDSS'], label=f'Year {filtered_tvdss_df[\"YEAR\"].min()} (Benchmark)', c='red', linestyle='--')\n"
   ]
  },
  {
   "cell_type": "code",
   "execution_count": 17,
   "metadata": {},
   "outputs": [],
   "source": [
    "# Create a function to update the left plot\n",
    "def plot_data_left(well, year):\n",
    "    plt.figure(figsize=(3, 7))  # Adjust the figure size for the left plot\n",
    "    plt.clf()  # Clear the previous plot\n",
    "    plot_benchmark(well, year)  # Plot the benchmark line\n",
    "    filtered_df = filtered_tvdss_df[(filtered_tvdss_df['WELL'] == well) & (filtered_tvdss_df['YEAR'] == year)]\n",
    "    plt.plot(filtered_df['SUWI_P'], filtered_df['TVDSS'], label=f'{year}')\n",
    "    filtered_df_rst = filtered_tvdss_df_rst[(filtered_tvdss_df_rst['WELL'] == well)]\n",
    "    plt.plot(filtered_df_rst['SUWI_NEW_1'], filtered_df_rst['TVDSS'], label=f'Rst Data', c='green')\n",
    "    plt.title(f'{well} - {year}')\n",
    "    plt.xlabel('SUWI_P')\n",
    "    plt.ylabel('TVDSS')\n",
    "    plt.xlim(0, 1)\n",
    "    plt.gca().invert_xaxis()\n",
    "    plt.gca().invert_yaxis()\n",
    "    plt.grid(True)\n",
    "    plt.legend()"
   ]
  },
  {
   "cell_type": "code",
   "execution_count": 18,
   "metadata": {},
   "outputs": [],
   "source": [
    "# Create a function to update the right plot\n",
    "def plot_data_right(well, year):\n",
    "    plt.figure(figsize=(3, 7))  # Adjust the figure size for the right plot\n",
    "    plt.clf()  # Clear the previous plot\n",
    "    plot_benchmark(well, year)  # Plot the benchmark line\n",
    "    filtered_df = filtered_tvdss_df[(filtered_tvdss_df['WELL'] == well) & (filtered_tvdss_df['YEAR'] == year)]\n",
    "    plt.plot(filtered_df['SUWI_P'], filtered_df['TVDSS'], label=f'{year}')\n",
    "    filtered_df_rst = filtered_tvdss_df_rst[(filtered_tvdss_df_rst['WELL'] == well)]\n",
    "    plt.plot(filtered_df_rst['SUWI_NEW_1'], filtered_df_rst['TVDSS'], label=f'Rst Data', c='green')\n",
    "    plt.title(f'{well} - {year}')\n",
    "    plt.xlabel('SUWI_P')\n",
    "    plt.ylabel('TVDSS')\n",
    "    plt.xlim(0, 1)\n",
    "    plt.gca().invert_xaxis()\n",
    "    plt.gca().invert_yaxis()\n",
    "    plt.grid(True)\n",
    "    plt.legend()"
   ]
  },
  {
   "cell_type": "code",
   "execution_count": 19,
   "metadata": {},
   "outputs": [
    {
     "data": {
      "application/vnd.jupyter.widget-view+json": {
       "model_id": "ae4fea0b1a5640aeb532b1327089dc8d",
       "version_major": 2,
       "version_minor": 0
      },
      "text/plain": [
       "HBox(children=(VBox(children=(VBox(children=(Dropdown(description='Select Well (Left):', layout=Layout(width='…"
      ]
     },
     "metadata": {},
     "output_type": "display_data"
    }
   ],
   "source": [
    "# Create the interactive widgets for the left plot\n",
    "left_widgets = VBox([well_dropdown_left, year_slider_left])\n",
    "left_output = widgets.interactive_output(plot_data_left, {'well': well_dropdown_left, 'year': year_slider_left})\n",
    "\n",
    "# Create the interactive widgets for the right plot \n",
    "right_widgets = VBox([well_dropdown_right, year_slider_right])\n",
    "right_output = widgets.interactive_output(plot_data_right, {'well': well_dropdown_right, 'year': year_slider_right})\n",
    "\n",
    "# Create a horizontal layout for the subplots (2 columns)\n",
    "layout = HBox([VBox([left_widgets, left_output]), VBox([right_widgets, right_output])])\n",
    "display(layout)"
   ]
  },
  {
   "cell_type": "code",
   "execution_count": 20,
   "metadata": {},
   "outputs": [],
   "source": [
    "\n",
    "\n",
    "# def plot_data(well, year):\n",
    "#     plt.figure(figsize=(3, 7))\n",
    "#     plt.clf()  # Clear the previous plot\n",
    "    \n",
    "#     plot_benchmark(well)  # Plot the benchmark line\n",
    "    \n",
    "#     filtered_df = filtered_tvdss_df[(filtered_tvdss_df['WELL'] == well) & (filtered_tvdss_df['YEAR'] == year)]\n",
    "#     plt.plot(filtered_df['SUWI_P'], filtered_df['TVDSS'], label=f'{year}')\n",
    "    \n",
    "#     filtered_df_rst = filtered_tvdss_df_rst[(filtered_tvdss_df_rst['WELL'] == well)]\n",
    "#     plt.plot(filtered_df_rst['SUWI_NEW_1'], filtered_df_rst['TVDSS'], label=f'Rst Data', c='green')\n",
    "    \n",
    "#     plt.title(f'{well} - {year}')\n",
    "#     plt.xlabel('SUWI_P')\n",
    "#     plt.ylabel('TVDSS')\n",
    "#     plt.xlim(0, 1)\n",
    "#     plt.gca().invert_xaxis()\n",
    "#     plt.gca().invert_yaxis()\n",
    "#     plt.grid(True)\n",
    "#     plt.legend()\n",
    "#     plt.show()\n",
    "\n",
    "# # Create the interactive widget\n",
    "# interact(plot_data, well=well_dropdown, year=year_slider)\n"
   ]
  },
  {
   "cell_type": "code",
   "execution_count": null,
   "metadata": {},
   "outputs": [],
   "source": []
  }
 ],
 "metadata": {
  "hide_input": false,
  "kernelspec": {
   "display_name": "Python 3 (ipykernel)",
   "language": "python",
   "name": "python3"
  },
  "language_info": {
   "codemirror_mode": {
    "name": "ipython",
    "version": 3
   },
   "file_extension": ".py",
   "mimetype": "text/x-python",
   "name": "python",
   "nbconvert_exporter": "python",
   "pygments_lexer": "ipython3",
   "version": "3.10.9"
  }
 },
 "nbformat": 4,
 "nbformat_minor": 4
}
